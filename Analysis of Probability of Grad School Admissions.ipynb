{
 "cells": [
  {
   "cell_type": "code",
   "execution_count": 1,
   "metadata": {},
   "outputs": [],
   "source": [
    "import pandas as pd\n",
    "import numpy as np\n",
    "import matplotlib.pyplot as plt\n",
    "import seaborn as sns\n",
    "\n",
    "data = pd.read_csv(r'C:\\Users\\Josh\\Documents\\Data Science\\GradSchoolAdmissions\\Admission_predict.csv')"
   ]
  },
  {
   "cell_type": "markdown",
   "metadata": {},
   "source": [
    "Let's see what we're working with..."
   ]
  },
  {
   "cell_type": "code",
   "execution_count": 2,
   "metadata": {},
   "outputs": [
    {
     "data": {
      "text/html": [
       "<div>\n",
       "<style scoped>\n",
       "    .dataframe tbody tr th:only-of-type {\n",
       "        vertical-align: middle;\n",
       "    }\n",
       "\n",
       "    .dataframe tbody tr th {\n",
       "        vertical-align: top;\n",
       "    }\n",
       "\n",
       "    .dataframe thead th {\n",
       "        text-align: right;\n",
       "    }\n",
       "</style>\n",
       "<table border=\"1\" class=\"dataframe\">\n",
       "  <thead>\n",
       "    <tr style=\"text-align: right;\">\n",
       "      <th></th>\n",
       "      <th>Serial No.</th>\n",
       "      <th>GRE Score</th>\n",
       "      <th>TOEFL Score</th>\n",
       "      <th>University Rating</th>\n",
       "      <th>SOP</th>\n",
       "      <th>LOR</th>\n",
       "      <th>CGPA</th>\n",
       "      <th>Research</th>\n",
       "      <th>Chance of Admit</th>\n",
       "    </tr>\n",
       "  </thead>\n",
       "  <tbody>\n",
       "    <tr>\n",
       "      <th>count</th>\n",
       "      <td>500.000000</td>\n",
       "      <td>500.000000</td>\n",
       "      <td>500.000000</td>\n",
       "      <td>500.000000</td>\n",
       "      <td>500.000000</td>\n",
       "      <td>500.00000</td>\n",
       "      <td>500.000000</td>\n",
       "      <td>500.000000</td>\n",
       "      <td>500.00000</td>\n",
       "    </tr>\n",
       "    <tr>\n",
       "      <th>mean</th>\n",
       "      <td>250.500000</td>\n",
       "      <td>316.472000</td>\n",
       "      <td>107.192000</td>\n",
       "      <td>3.114000</td>\n",
       "      <td>3.374000</td>\n",
       "      <td>3.48400</td>\n",
       "      <td>8.576440</td>\n",
       "      <td>0.560000</td>\n",
       "      <td>0.72174</td>\n",
       "    </tr>\n",
       "    <tr>\n",
       "      <th>std</th>\n",
       "      <td>144.481833</td>\n",
       "      <td>11.295148</td>\n",
       "      <td>6.081868</td>\n",
       "      <td>1.143512</td>\n",
       "      <td>0.991004</td>\n",
       "      <td>0.92545</td>\n",
       "      <td>0.604813</td>\n",
       "      <td>0.496884</td>\n",
       "      <td>0.14114</td>\n",
       "    </tr>\n",
       "    <tr>\n",
       "      <th>min</th>\n",
       "      <td>1.000000</td>\n",
       "      <td>290.000000</td>\n",
       "      <td>92.000000</td>\n",
       "      <td>1.000000</td>\n",
       "      <td>1.000000</td>\n",
       "      <td>1.00000</td>\n",
       "      <td>6.800000</td>\n",
       "      <td>0.000000</td>\n",
       "      <td>0.34000</td>\n",
       "    </tr>\n",
       "    <tr>\n",
       "      <th>25%</th>\n",
       "      <td>125.750000</td>\n",
       "      <td>308.000000</td>\n",
       "      <td>103.000000</td>\n",
       "      <td>2.000000</td>\n",
       "      <td>2.500000</td>\n",
       "      <td>3.00000</td>\n",
       "      <td>8.127500</td>\n",
       "      <td>0.000000</td>\n",
       "      <td>0.63000</td>\n",
       "    </tr>\n",
       "    <tr>\n",
       "      <th>50%</th>\n",
       "      <td>250.500000</td>\n",
       "      <td>317.000000</td>\n",
       "      <td>107.000000</td>\n",
       "      <td>3.000000</td>\n",
       "      <td>3.500000</td>\n",
       "      <td>3.50000</td>\n",
       "      <td>8.560000</td>\n",
       "      <td>1.000000</td>\n",
       "      <td>0.72000</td>\n",
       "    </tr>\n",
       "    <tr>\n",
       "      <th>75%</th>\n",
       "      <td>375.250000</td>\n",
       "      <td>325.000000</td>\n",
       "      <td>112.000000</td>\n",
       "      <td>4.000000</td>\n",
       "      <td>4.000000</td>\n",
       "      <td>4.00000</td>\n",
       "      <td>9.040000</td>\n",
       "      <td>1.000000</td>\n",
       "      <td>0.82000</td>\n",
       "    </tr>\n",
       "    <tr>\n",
       "      <th>max</th>\n",
       "      <td>500.000000</td>\n",
       "      <td>340.000000</td>\n",
       "      <td>120.000000</td>\n",
       "      <td>5.000000</td>\n",
       "      <td>5.000000</td>\n",
       "      <td>5.00000</td>\n",
       "      <td>9.920000</td>\n",
       "      <td>1.000000</td>\n",
       "      <td>0.97000</td>\n",
       "    </tr>\n",
       "  </tbody>\n",
       "</table>\n",
       "</div>"
      ],
      "text/plain": [
       "       Serial No.   GRE Score  TOEFL Score  University Rating         SOP  \\\n",
       "count  500.000000  500.000000   500.000000         500.000000  500.000000   \n",
       "mean   250.500000  316.472000   107.192000           3.114000    3.374000   \n",
       "std    144.481833   11.295148     6.081868           1.143512    0.991004   \n",
       "min      1.000000  290.000000    92.000000           1.000000    1.000000   \n",
       "25%    125.750000  308.000000   103.000000           2.000000    2.500000   \n",
       "50%    250.500000  317.000000   107.000000           3.000000    3.500000   \n",
       "75%    375.250000  325.000000   112.000000           4.000000    4.000000   \n",
       "max    500.000000  340.000000   120.000000           5.000000    5.000000   \n",
       "\n",
       "             LOR        CGPA    Research  Chance of Admit  \n",
       "count  500.00000  500.000000  500.000000        500.00000  \n",
       "mean     3.48400    8.576440    0.560000          0.72174  \n",
       "std      0.92545    0.604813    0.496884          0.14114  \n",
       "min      1.00000    6.800000    0.000000          0.34000  \n",
       "25%      3.00000    8.127500    0.000000          0.63000  \n",
       "50%      3.50000    8.560000    1.000000          0.72000  \n",
       "75%      4.00000    9.040000    1.000000          0.82000  \n",
       "max      5.00000    9.920000    1.000000          0.97000  "
      ]
     },
     "execution_count": 2,
     "metadata": {},
     "output_type": "execute_result"
    }
   ],
   "source": [
    "data.describe()"
   ]
  },
  {
   "cell_type": "markdown",
   "metadata": {},
   "source": [
    "The idea here is to apply a machine learning algorithm to try and get a prediction of probability of admittance for any given combination of these factors.\n",
    "\n",
    "I will first try a simple linear regression model, and then compare it to a more advanced random forest regressor and see how the two match up.  I suspect the random forest regressor will definitely outperform the simple linear regression!\n",
    "\n",
    "First I'll clean the data up."
   ]
  },
  {
   "cell_type": "code",
   "execution_count": 3,
   "metadata": {},
   "outputs": [],
   "source": [
    "data.drop('Serial No.', axis='columns', inplace=True)"
   ]
  },
  {
   "cell_type": "code",
   "execution_count": 4,
   "metadata": {},
   "outputs": [
    {
     "data": {
      "text/plain": [
       "GRE Score            0\n",
       "TOEFL Score          0\n",
       "University Rating    0\n",
       "SOP                  0\n",
       "LOR                  0\n",
       "CGPA                 0\n",
       "Research             0\n",
       "Chance of Admit      0\n",
       "dtype: int64"
      ]
     },
     "execution_count": 4,
     "metadata": {},
     "output_type": "execute_result"
    }
   ],
   "source": [
    "data.isnull().sum()"
   ]
  },
  {
   "cell_type": "markdown",
   "metadata": {},
   "source": [
    "Now for some visualization."
   ]
  },
  {
   "cell_type": "code",
   "execution_count": 5,
   "metadata": {},
   "outputs": [
    {
     "name": "stderr",
     "output_type": "stream",
     "text": [
      "C:\\ProgramData\\Anaconda3\\lib\\site-packages\\matplotlib\\figure.py:459: UserWarning: matplotlib is currently using a non-GUI backend, so cannot show the figure\n",
      "  \"matplotlib is currently using a non-GUI backend, \"\n"
     ]
    },
    {
     "data": {
      "image/png": "[encoded data removed]",
      "text/plain": [
       "<Figure size 1080x1080 with 6 Axes>"
      ]
     },
     "metadata": {},
     "output_type": "display_data"
    }
   ],
   "source": [
    "numFeatures = ['GRE Score', 'TOEFL Score','University Rating','SOP', 'LOR','CGPA']\n",
    "fig, axs = plt.subplots(2,3, figsize=(15,15))\n",
    "axs[0,0].boxplot(data['GRE Score'])\n",
    "axs[0,0].set_title('GRE')\n",
    "axs[0,1].boxplot(data['TOEFL Score'])\n",
    "axs[0,1].set_title('TOEFL Score')\n",
    "axs[0,2].boxplot(data['University Rating'])\n",
    "axs[0,2].set_title('University Rating')\n",
    "axs[1,0].boxplot(data['SOP'])\n",
    "axs[1,0].set_title('SOP')\n",
    "axs[1,1].boxplot(data['LOR'])\n",
    "axs[1,1].set_title('LOR')\n",
    "axs[1,2].boxplot(data['CGPA'])\n",
    "axs[1,2].set_title('CGPA')\n",
    "for ax in axs.flat:\n",
    "    ax.set_xticklabels('')\n",
    "# fig.tick_params(axis='x',         which='both',      bottom=False,      top=False,         labelbottom=False)\n",
    "fig.show()"
   ]
  },
  {
   "cell_type": "markdown",
   "metadata": {},
   "source": [
    "All of these factors have a large range of values, however the main thing that catches my interest is how much the innerquartile range varies between them. Note, I didn't include Chance of Admit in this boxplot analysis because I'd imagine intuitively that the proportion of admittance chance is inversely proportional to their percentile in it.  IE the information is self describing and doesn't need a plot."
   ]
  },
  {
   "cell_type": "code",
   "execution_count": 6,
   "metadata": {},
   "outputs": [
    {
     "data": {
      "text/plain": [
       "<matplotlib.axes._subplots.AxesSubplot at 0x243b4ee7ba8>"
      ]
     },
     "execution_count": 6,
     "metadata": {},
     "output_type": "execute_result"
    },
    {
     "data": {
      "image/png": "[encoded data removed]",
      "text/plain": [
       "<Figure size 432x288 with 2 Axes>"
      ]
     },
     "metadata": {},
     "output_type": "display_data"
    }
   ],
   "source": [
    "sns.heatmap(data.corr(), annot=True)"
   ]
  },
  {
   "cell_type": "markdown",
   "metadata": {},
   "source": [
    "Looking at the correlation map, it seems like GPA has the biggest effect on acceptance rate, followed by GRE score and TOEFL.  This data set comes from India so it makes sense why TOEFL would have such an effect on acceptance.\n",
    "\n",
    "Now I'm going to create some models to see what kind of preditive accuracy I can get off of this data."
   ]
  },
  {
   "cell_type": "code",
   "execution_count": 7,
   "metadata": {},
   "outputs": [],
   "source": [
    "from sklearn.linear_model import LinearRegression \n",
    "from sklearn.model_selection import train_test_split\n",
    "from sklearn.preprocessing import LabelEncoder"
   ]
  },
  {
   "cell_type": "code",
   "execution_count": 8,
   "metadata": {},
   "outputs": [
    {
     "name": "stdout",
     "output_type": "stream",
     "text": [
      "0.8127980254458259\n"
     ]
    }
   ],
   "source": [
    "encodedData = data\n",
    "le = LabelEncoder()\n",
    "encodedData['Research'] = le.fit_transform(encodedData['Research'])\n",
    "\n",
    "x = encodedData.drop('Chance of Admit', axis='columns')\n",
    "y = encodedData['Chance of Admit']\n",
    "\n",
    "train_x, val_x, train_y, val_y = train_test_split(x,y, random_state=1)\n",
    "model = LinearRegression(normalize=True)\n",
    "model.fit(train_x,train_y)\n",
    "val_predictions = model.predict(val_x)\n",
    "print(model.score(val_x,val_y))"
   ]
  },
  {
   "cell_type": "markdown",
   "metadata": {},
   "source": [
    "Not bad, basic linear regression got an R^2 of .81.  This is actually a pretty solid model, but let's see what a logistic regression can do."
   ]
  },
  {
   "cell_type": "code",
   "execution_count": 9,
   "metadata": {},
   "outputs": [],
   "source": [
    "from sklearn.ensemble import RandomForestRegressor"
   ]
  },
  {
   "cell_type": "code",
   "execution_count": 10,
   "metadata": {},
   "outputs": [
    {
     "name": "stdout",
     "output_type": "stream",
     "text": [
      "0.7607630948397783\n"
     ]
    },
    {
     "name": "stderr",
     "output_type": "stream",
     "text": [
      "C:\\Users\\Josh\\AppData\\Roaming\\Python\\Python36\\site-packages\\sklearn\\ensemble\\forest.py:248: FutureWarning: The default value of n_estimators will change from 10 in version 0.20 to 100 in 0.22.\n",
      "  \"10 in version 0.20 to 100 in 0.22.\", FutureWarning)\n"
     ]
    }
   ],
   "source": [
    "encodedData2 = data\n",
    "encodedData2['Research'] = le.fit_transform(encodedData2['Research'])\n",
    "\n",
    "x = encodedData2.drop('Chance of Admit', axis='columns')\n",
    "y = encodedData2['Chance of Admit']\n",
    "\n",
    "train_x, val_x, train_y, val_y = train_test_split(x,y, random_state=1)\n",
    "model2 = RandomForestRegressor(random_state=1)\n",
    "model2.fit(train_x,train_y)\n",
    "val_predictions = model2.predict(val_x)\n",
    "print(model2.score(val_x,val_y))"
   ]
  },
  {
   "cell_type": "markdown",
   "metadata": {},
   "source": [
    "Hmm, so a random forest regressor actually performs worse than standard linear regression in this case.  What if I tweaked the parameters of the algorithm?"
   ]
  },
  {
   "cell_type": "code",
   "execution_count": 11,
   "metadata": {},
   "outputs": [
    {
     "name": "stdout",
     "output_type": "stream",
     "text": [
      "Score with 10 estimators and 1 minimum samples per leaf: 0.760763\n",
      "Score with 10 estimators and 2 minimum samples per leaf: 0.751165\n",
      "Score with 10 estimators and 3 minimum samples per leaf: 0.745672\n",
      "Score with 100 estimators and 1 minimum samples per leaf: 0.768101\n",
      "Score with 100 estimators and 2 minimum samples per leaf: 0.761418\n",
      "Score with 100 estimators and 3 minimum samples per leaf: 0.758898\n",
      "Score with 1000 estimators and 1 minimum samples per leaf: 0.765553\n",
      "Score with 1000 estimators and 2 minimum samples per leaf: 0.761729\n",
      "Score with 1000 estimators and 3 minimum samples per leaf: 0.762573\n"
     ]
    }
   ],
   "source": [
    "n = 10\n",
    "leaf = 1\n",
    "for i in range(1,4):\n",
    "    for j in range(1,4):\n",
    "        model = RandomForestRegressor(random_state=1, n_estimators=n**i,min_samples_leaf=leaf*j)\n",
    "        model.fit(train_x,train_y)\n",
    "        val_predictions = model.predict(val_x)\n",
    "        print(\"Score with \"+str(n**i)+\" estimators and \"+str(leaf*j)+\" minimum samples per leaf: %f\" % model.score(val_x,val_y))\n",
    "\n",
    "# model3 = RandomForestRegressor(random_state=1, n_estimators=100,min_samples_leaf=50)\n",
    "# model3.fit(train_x,train_y)\n",
    "# val_predictions = model2.predict(val_x)\n",
    "# print(model3.score(val_x,val_y))\n",
    "\n",
    "# model4 = RandomForestRegressor(random_state=1, n_estimators=1000, min_samples_leaf=3)\n",
    "# model4.fit(train_x,train_y)\n",
    "# val_predictions = model4.predict(val_x)\n",
    "# print(model4.score(val_x,val_y))"
   ]
  },
  {
   "cell_type": "markdown",
   "metadata": {},
   "source": [
    "So tweaking the algorithm doesn't seem to change much in this case, however there are many parameters that can be changed and this only scratches the surface of the choices that can be made.\n",
    "\n",
    "It is interesting to note, however, that with 10 estimators increasing the minimum samples per leaf actually decreases the R^2 but for any case above 10 estimatores, increasing the minimum samples per leaf increases the R^2.  I would like to delve more into the fundamentals of the algorithm to find out why exactly this is.\n",
    "\n",
    "# Conclusion\n",
    "In this analysis of grad school admissions rates, we saw that the single most important factor for determing success in getting into grad school is undergrad GPA, followed by GRE scores, and then by TOEFL scores.  Furthermore doing a regression on this data yields a better R^2 score than using a random forest regressor, which I am very surprised by.  I guess given the simple nature of the data linear regression has the advantage here (though it's important to point out that the advantage is pretty small)."
   ]
  },
  {
   "cell_type": "code",
   "execution_count": null,
   "metadata": {},
   "outputs": [],
   "source": []
  }
 ],
 "metadata": {
  "kernelspec": {
   "display_name": "Python 3",
   "language": "python",
   "name": "python3"
  },
  "language_info": {
   "codemirror_mode": {
    "name": "ipython",
    "version": 3
   },
   "file_extension": ".py",
   "mimetype": "text/x-python",
   "name": "python",
   "nbconvert_exporter": "python",
   "pygments_lexer": "ipython3",
   "version": "3.6.5"
  }
 },
 "nbformat": 4,
 "nbformat_minor": 2
}
